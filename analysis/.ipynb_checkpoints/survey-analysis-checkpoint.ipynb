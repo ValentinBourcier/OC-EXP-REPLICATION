{
 "cells": [
  {
   "cell_type": "code",
   "execution_count": null,
   "id": "awful-percentage",
   "metadata": {
    "pycharm": {
     "is_executing": true
    }
   },
   "outputs": [],
   "source": [
    "import os\n",
    "import pandas as pd\n",
    "import matplotlib.pyplot as plt\n",
    "from datetime import timedelta"
   ]
  },
  {
   "cell_type": "code",
   "execution_count": null,
   "id": "cubic-sussex",
   "metadata": {},
   "outputs": [],
   "source": [
    "extraction_dir = './survey-dataset/'\n",
    "\n",
    "# List the files in the directory\n",
    "extracted_files = os.listdir(extraction_dir)\n",
    "extracted_files"
   ]
  },
  {
   "cell_type": "code",
   "execution_count": null,
   "id": "descending-estonia",
   "metadata": {},
   "outputs": [],
   "source": [
    "file_path = os.path.join(extraction_dir, 'lightsout-control-modified.csv')\n",
    "print(file_path)"
   ]
  },
  {
   "cell_type": "code",
   "execution_count": null,
   "id": "urban-honduras",
   "metadata": {},
   "outputs": [],
   "source": [
    "def read_csv(file_path):\n",
    "    try:\n",
    "        # Attempt to read the file assuming semicolon delimiter and correct quoting\n",
    "        sample_dataframe = pd.read_csv(file_path, delimiter=';', engine='python') # nrows=0 to read only headers\n",
    "        return sample_dataframe\n",
    "    except Exception as e:\n",
    "        return f\"Error reading file {file_path}: {e}\"\n",
    "    \n",
    "sam_df = read_csv(file_path)\n",
    "print(sam_df.columns)"
   ]
  },
  {
   "cell_type": "code",
   "execution_count": null,
   "id": "formal-cache",
   "metadata": {},
   "outputs": [],
   "source": [
    "print(sam_df.head(2))"
   ]
  },
  {
   "cell_type": "code",
   "execution_count": null,
   "id": "tired-antibody",
   "metadata": {},
   "outputs": [],
   "source": [
    "print(sam_df.tail(2))"
   ]
  },
  {
   "cell_type": "code",
   "execution_count": null,
   "id": "charitable-cornell",
   "metadata": {},
   "outputs": [],
   "source": [
    "print(sam_df.columns)"
   ]
  },
  {
   "cell_type": "code",
   "execution_count": null,
   "id": "intended-bottle",
   "metadata": {},
   "outputs": [],
   "source": [
    "print(sam_df.shape)"
   ]
  },
  {
   "cell_type": "code",
   "execution_count": null,
   "id": "outdoor-merchandise",
   "metadata": {},
   "outputs": [],
   "source": [
    "print(df[\"participant\"])"
   ]
  },
  {
   "cell_type": "code",
   "execution_count": null,
   "id": "sixth-johnston",
   "metadata": {
    "scrolled": true
   },
   "outputs": [],
   "source": [
    "def compute_bugs_found(df, participant_col, bug_found_col):\n",
    "    # Count the occurrences of \"Yes\" in the bug_found_col for each participant\n",
    "    bug_count_grouped = df.groupby([participant_col, bug_found_col]).size().unstack(fill_value=0)\n",
    "    return bug_count_grouped\n",
    "\n",
    "bug_count_grouped = compute_bugs_found(sam_df, df[\"participant\"],df[\"bug-found\"])\n",
    "print(bug_count_grouped)"
   ]
  },
  {
   "cell_type": "code",
   "execution_count": null,
   "id": "human-emergency",
   "metadata": {},
   "outputs": [],
   "source": []
  },
  {
   "cell_type": "code",
   "execution_count": null,
   "id": "shared-producer",
   "metadata": {},
   "outputs": [],
   "source": [
    "    # Plotting the results\n",
    "    bug_count_grouped.plot(kind='bar', stacked=True, figsize=(10, 6))\n",
    "    plt.xlabel('Participants')\n",
    "    plt.ylabel('Count')\n",
    "    plt.title('Bug Found Status by Participants')\n",
    "    plt.xticks(rotation=45)\n",
    "    plt.legend(title=bug_found_col)\n",
    "    plt.show()"
   ]
  },
  {
   "cell_type": "code",
   "execution_count": null,
   "id": "unauthorized-emergency",
   "metadata": {},
   "outputs": [],
   "source": []
  }
 ],
 "metadata": {
  "kernelspec": {
   "display_name": "Python 3",
   "language": "python",
   "name": "python3"
  },
  "language_info": {
   "codemirror_mode": {
    "name": "ipython",
    "version": 3
   },
   "file_extension": ".py",
   "mimetype": "text/x-python",
   "name": "python",
   "nbconvert_exporter": "python",
   "pygments_lexer": "ipython3",
   "version": "3.9.16"
  }
 },
 "nbformat": 4,
 "nbformat_minor": 5
}
